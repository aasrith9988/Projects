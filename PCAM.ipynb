{
  "nbformat": 4,
  "nbformat_minor": 0,
  "metadata": {
    "colab": {
      "name": " PCAM.ipynb",
      "provenance": [],
      "collapsed_sections": []
    },
    "kernelspec": {
      "name": "python3",
      "display_name": "Python 3"
    },
    "accelerator": "GPU"
  },
  "cells": [
    {
      "cell_type": "code",
      "metadata": {
        "id": "e5ndX9Jvu354"
      },
      "source": [
        "import zipfile\n",
        "from google.colab import drive\n",
        "\n",
        "drive.mount('/content/drive/')\n",
        "!unzip \"/content/drive/MyDrive/PCAM data/ new_train.zip\"\n",
        "#unzip files\n"
      ],
      "execution_count": null,
      "outputs": []
    },
    {
      "cell_type": "code",
      "metadata": {
        "id": "tanBcKO47Uif"
      },
      "source": [
        "!unzip \"/content/drive/MyDrive/PCAM data/ new_histotest.zip\""
      ],
      "execution_count": null,
      "outputs": []
    },
    {
      "cell_type": "code",
      "metadata": {
        "id": "USaL_bJTgCRN"
      },
      "source": [
        "!unzip \"/content/drive/MyDrive/PCAM data/ histotest1.zip\""
      ],
      "execution_count": null,
      "outputs": []
    },
    {
      "cell_type": "code",
      "metadata": {
        "id": "JI-2pQZIvsIp"
      },
      "source": [
        "import os\n",
        "print(len(os.listdir(\"/content/new_train\")))\n"
      ],
      "execution_count": null,
      "outputs": []
    },
    {
      "cell_type": "code",
      "metadata": {
        "id": "L-fKUk7lyxgw"
      },
      "source": [
        "from fastai.vision import *"
      ],
      "execution_count": null,
      "outputs": []
    },
    {
      "cell_type": "code",
      "metadata": {
        "id": "nNtZtGoC2goR"
      },
      "source": [
        "from fastai.metrics import error_rate"
      ],
      "execution_count": null,
      "outputs": []
    },
    {
      "cell_type": "code",
      "metadata": {
        "id": "oXzcXvFl2nFQ"
      },
      "source": [
        "%reload_ext autoreload\n",
        "%autoreload 2\n",
        "%matplotlib inline"
      ],
      "execution_count": null,
      "outputs": []
    },
    {
      "cell_type": "code",
      "metadata": {
        "id": "nw7pN_nU2sYo"
      },
      "source": [
        "train_dir=\"/content/new_train\"\n",
        "base_dir=\"/content\"\n",
        "train_csv=\"/content/drive/My Drive/train_labels1.csv\""
      ],
      "execution_count": null,
      "outputs": []
    },
    {
      "cell_type": "code",
      "metadata": {
        "id": "q4-jWg-L269w"
      },
      "source": [
        "import numpy as np\n",
        "import random \n",
        "import os\n",
        "from tqdm import tqdm   \n",
        "l=os.listdir(train_dir)\n",
        "random.shuffle(l)"
      ],
      "execution_count": null,
      "outputs": []
    },
    {
      "cell_type": "code",
      "metadata": {
        "id": "IMmy0Dh_3V4J"
      },
      "source": [
        "tfms = get_transforms(do_flip=True) #augmentation"
      ],
      "execution_count": null,
      "outputs": []
    },
    {
      "cell_type": "code",
      "metadata": {
        "id": "IyMwRCk4YURJ"
      },
      "source": [
        "len(os.listdir(\"/content/new_histotest\"))"
      ],
      "execution_count": null,
      "outputs": []
    },
    {
      "cell_type": "code",
      "metadata": {
        "id": "9HAL58zM3bhQ"
      },
      "source": [
        "bs=32 # also the default batch size\n",
        "data = ImageDataBunch.from_csv(\n",
        "    base_dir, \n",
        "    ds_tfms=tfms, \n",
        "    size=224, \n",
        "    suffix=\".tiff\",\n",
        "    folder=\"new_histotest\", \n",
        "    csv_labels=\"histotest.csv\", \n",
        "    bs=bs)"
      ],
      "execution_count": null,
      "outputs": []
    },
    {
      "cell_type": "code",
      "metadata": {
        "id": "LnwG2HGFLC7h"
      },
      "source": [
        "len(os.listdir(histotest1))"
      ],
      "execution_count": null,
      "outputs": []
    },
    {
      "cell_type": "code",
      "metadata": {
        "id": "5yATnFrz3klw"
      },
      "source": [
        "data.normalize(imagenet_stats)"
      ],
      "execution_count": null,
      "outputs": []
    },
    {
      "cell_type": "code",
      "metadata": {
        "id": "Z-KK-Urc3pZI"
      },
      "source": [
        "data.show_batch(rows=4, figsize=(10, 10))"
      ],
      "execution_count": null,
      "outputs": []
    },
    {
      "cell_type": "code",
      "metadata": {
        "id": "waNDnrRV3zzA"
      },
      "source": [
        "learn = cnn_learner(data, models.densenet161, metrics=error_rate, callback_fns=ShowGraph).to_fp16() #to load model\n",
        "\n",
        "#change parameter to models.{what model you want name} to load the model"
      ],
      "execution_count": null,
      "outputs": []
    },
    {
      "cell_type": "code",
      "metadata": {
        "id": "dwhC1rp3t0lk"
      },
      "source": [
        "learn = learn.load(\"/content/drive/My Drive/densenet10epochs\")\n",
        "learn.data  = data"
      ],
      "execution_count": null,
      "outputs": []
    },
    {
      "cell_type": "code",
      "metadata": {
        "id": "tECPVgP1HBLr"
      },
      "source": [
        "torch.cuda.empty_cache #free gpu space\n",
        "\n"
      ],
      "execution_count": null,
      "outputs": []
    },
    {
      "cell_type": "code",
      "metadata": {
        "id": "dJmivV-r39bY"
      },
      "source": [
        "\n",
        "learn.lr_find() # mocks training to plt graph of learning rate vs loss\n",
        "learn.recorder.plot()"
      ],
      "execution_count": null,
      "outputs": []
    },
    {
      "cell_type": "code",
      "metadata": {
        "id": "EVs3UKX9zcWX"
      },
      "source": [
        "learn.fit_one_cycle(3, slice(1e-05)) #parameters are number of epochs and learning rate choosen from above graph"
      ],
      "execution_count": null,
      "outputs": []
    },
    {
      "cell_type": "code",
      "metadata": {
        "id": "AQG-Lv7jze_R"
      },
      "source": [
        "learn.save(\"densenet161final\") #save model"
      ],
      "execution_count": null,
      "outputs": []
    },
    {
      "cell_type": "code",
      "metadata": {
        "id": "UBkScWMFapt-"
      },
      "source": [
        "        learn=learn.load(\"/content/drive/My Drive/200k\") #if you want to load previously saved models"
      ],
      "execution_count": null,
      "outputs": []
    },
    {
      "cell_type": "code",
      "metadata": {
        "id": "4jDjyPT8a4Bs"
      },
      "source": [
        "preds,y, loss = learn.get_preds(ds_type=DatasetType.Valid,with_loss=True) #validation accuracy\n",
        "# get accuracy\n",
        "acc = accuracy(preds, y)\n",
        "print('The accuracy is {0} %.'.format(acc*100))\n"
      ],
      "execution_count": null,
      "outputs": []
    },
    {
      "cell_type": "code",
      "metadata": {
        "id": "RImoy4uHcfL0"
      },
      "source": [
        "preds,y, loss = learn.get_preds(ds_type=DatasetType.Train,with_loss=True) #training accuracy\n",
        "# get accuracy\n",
        "acc = accuracy(preds, y)\n",
        "print('The accuracy is {0} %.'.format(acc*100))"
      ],
      "execution_count": null,
      "outputs": []
    },
    {
      "cell_type": "code",
      "metadata": {
        "id": "8Y9w1Ak4X1T-"
      },
      "source": [
        "import h5py\n",
        "f2 = h5py.File(\"/content/drive/My Drive/camelyonpatch_level_2_split_test_y.h5\", 'r')"
      ],
      "execution_count": null,
      "outputs": []
    },
    {
      "cell_type": "code",
      "metadata": {
        "id": "fYmQEeqZUMQV"
      },
      "source": [
        "set2 = f2['y']"
      ],
      "execution_count": null,
      "outputs": []
    },
    {
      "cell_type": "code",
      "metadata": {
        "id": "0NMe9pDbVAMw"
      },
      "source": [
        "import cv2"
      ],
      "execution_count": null,
      "outputs": []
    },
    {
      "cell_type": "code",
      "metadata": {
        "id": "AvKBd486UoNx"
      },
      "source": [
        "c=0\n",
        "tp=0\n",
        "tn=0\n",
        "fp=0\n",
        "fn=0\n",
        "for i in range(32768):\n",
        "    image=cv2.imread(\"/content/new_histotest/\"+str(i)+\".tiff\")\n",
        "    actual=open_image(\"/content/new_histotest/\"+str(i)+\".tiff\")\n",
        "    preds=learn.predict(actual)\n",
        "    result=int(preds[0])\n",
        "    print(\"result is\",result,\"actual is\",set2[i][0][0][0])\n",
        "    print(i)\n",
        "    #plt.imshow(image)\n",
        "    #plt.show()\n",
        "    if(result==set2[i][0][0][0] and result==1 and set2[i][0][0][0]==1):\n",
        "      tp=tp+1\n",
        "      c=c+1\n",
        "    elif(result==set2[i][0][0][0] and result==0 and set2[i][0][0][0]==0):\n",
        "      tn=tn+1\n",
        "      c=c+1\n",
        "    elif(result!=set2[i][0][0][0] and result==1 and set2[i][0][0][0]==0):\n",
        "      fp=fp+1\n",
        "    else:\n",
        "      fn=fn+1"
      ],
      "execution_count": null,
      "outputs": []
    },
    {
      "cell_type": "code",
      "metadata": {
        "id": "hQjw1mSXU-yr"
      },
      "source": [
        "c"
      ],
      "execution_count": null,
      "outputs": []
    },
    {
      "cell_type": "code",
      "metadata": {
        "id": "6TxcroyHXjSI"
      },
      "source": [
        "c/32768"
      ],
      "execution_count": null,
      "outputs": []
    },
    {
      "cell_type": "code",
      "metadata": {
        "id": "MbEHMmm1_4Ha"
      },
      "source": [
        "c*100"
      ],
      "execution_count": null,
      "outputs": []
    },
    {
      "cell_type": "code",
      "metadata": {
        "id": "ysLLIUb5_879"
      },
      "source": [
        "(c*100)/32768"
      ],
      "execution_count": null,
      "outputs": []
    },
    {
      "cell_type": "code",
      "metadata": {
        "id": "yEqxvzDUAAvE"
      },
      "source": [
        "fp\n"
      ],
      "execution_count": null,
      "outputs": []
    },
    {
      "cell_type": "code",
      "metadata": {
        "id": "zD6C-oN3ggE-"
      },
      "source": [
        "fn"
      ],
      "execution_count": null,
      "outputs": []
    },
    {
      "cell_type": "code",
      "metadata": {
        "id": "sFFUiEupghsZ"
      },
      "source": [
        "tp"
      ],
      "execution_count": null,
      "outputs": []
    },
    {
      "cell_type": "code",
      "metadata": {
        "id": "Iis5MZLvgimj"
      },
      "source": [
        "tn"
      ],
      "execution_count": null,
      "outputs": []
    },
    {
      "cell_type": "code",
      "metadata": {
        "id": "qBmhQPQ_gjsN"
      },
      "source": [
        "precision=tp/(tp+fp)"
      ],
      "execution_count": null,
      "outputs": []
    },
    {
      "cell_type": "code",
      "metadata": {
        "id": "TYvLvURKXqWp"
      },
      "source": [
        "recall=tp/(tp+fn)"
      ],
      "execution_count": null,
      "outputs": []
    },
    {
      "cell_type": "code",
      "metadata": {
        "id": "Hs8hJAQZXurs"
      },
      "source": [
        "print(precision,recall)"
      ],
      "execution_count": null,
      "outputs": []
    },
    {
      "cell_type": "code",
      "metadata": {
        "id": "JbNgTq2sXx9u"
      },
      "source": [
        "F1_Score=(2*precision*recall)/(precision+recall)"
      ],
      "execution_count": null,
      "outputs": []
    },
    {
      "cell_type": "code",
      "metadata": {
        "id": "cxjiHIVqX6f9"
      },
      "source": [
        "print(F1_Score)"
      ],
      "execution_count": null,
      "outputs": []
    },
    {
      "cell_type": "code",
      "metadata": {
        "id": "ZfOFslDAX9Ko"
      },
      "source": [
        ""
      ],
      "execution_count": null,
      "outputs": []
    }
  ]
}